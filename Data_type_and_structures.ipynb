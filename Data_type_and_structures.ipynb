{
  "nbformat": 4,
  "nbformat_minor": 0,
  "metadata": {
    "colab": {
      "private_outputs": true,
      "provenance": []
    },
    "kernelspec": {
      "name": "python3",
      "display_name": "Python 3"
    },
    "language_info": {
      "name": "python"
    }
  },
  "cells": [
    {
      "cell_type": "code",
      "execution_count": null,
      "metadata": {
        "id": "FEDsaH-rsl9W"
      },
      "outputs": [],
      "source": []
    },
    {
      "cell_type": "code",
      "source": [
        "# Write a code to create a string with your name and print it\n",
        "\n",
        "name = \"BARKHA\"\n",
        "print(f\"my name is {name}\")\n",
        ""
      ],
      "metadata": {
        "id": "5d6XUpyctAKZ"
      },
      "execution_count": null,
      "outputs": []
    },
    {
      "cell_type": "code",
      "source": [
        "# Write a code to find the length of the string \"Hello World\"\n",
        "\n",
        "a = \"Hello World\"\n",
        "\n",
        "print(len(a))\n",
        ""
      ],
      "metadata": {
        "id": "ULKuH95ctDVr"
      },
      "execution_count": null,
      "outputs": []
    },
    {
      "cell_type": "code",
      "source": [
        "#  Write a code to slice the first 3 characters from the string \"Python Programming\"\n",
        "\n",
        "a = \"Python Programming\"\n",
        "print(a.__getitem__(slice(0,3)))\n",
        ""
      ],
      "metadata": {
        "id": "WTL3hn40tLKg"
      },
      "execution_count": null,
      "outputs": []
    },
    {
      "cell_type": "code",
      "source": [
        "# Write a code to convert the string \"hello\" to uppercase\n",
        "\n",
        "a = \"hello\"\n",
        "\n",
        "print(a.upper())"
      ],
      "metadata": {
        "id": "2fRQSwLKtRkS"
      },
      "execution_count": null,
      "outputs": []
    },
    {
      "cell_type": "code",
      "source": [
        "# Write a code to replace the word \"apple\" with \"orange\" in the string \"I like apple\"\n",
        "\n",
        "a = \"I like apple\"\n",
        "print(a.replace(\"apple\", \"Orange\"))\n",
        ""
      ],
      "metadata": {
        "id": "Zew8DwMWteAw"
      },
      "execution_count": null,
      "outputs": []
    },
    {
      "cell_type": "code",
      "source": [
        "# Write a code to create a list with numbers 1 to 5 and print it\n",
        "\n",
        "my_list = [1,2,3,4,5]\n",
        "print(my_list)"
      ],
      "metadata": {
        "id": "eS8Tl___tlbz"
      },
      "execution_count": null,
      "outputs": []
    },
    {
      "cell_type": "code",
      "source": [
        "# Write a code to append the number 10 to the list [1, 2, 3, 4]\n",
        "\n",
        "l = [1, 2, 3, 4]\n",
        "l.append(10)\n",
        "print(l)\n",
        ""
      ],
      "metadata": {
        "id": "oS3MD79jtohI"
      },
      "execution_count": null,
      "outputs": []
    },
    {
      "cell_type": "code",
      "source": [
        "#  Write a code to remove the number 3 from the list [1, 2, 3, 4, 5]\n",
        "\n",
        "l = [1, 2, 3, 4, 5]\n",
        "l.remove(3)\n",
        "print(l)"
      ],
      "metadata": {
        "id": "F1PYTk9AtuF4"
      },
      "execution_count": null,
      "outputs": []
    },
    {
      "cell_type": "code",
      "source": [
        "# Write a code to access the second element in the list ['a', 'b', 'c', 'd']\n",
        "\n",
        "a = ['a', 'b', 'c', 'd']\n",
        "\n",
        "print(a[1])\n",
        ""
      ],
      "metadata": {
        "id": "Cqdj_UIQtxF2"
      },
      "execution_count": null,
      "outputs": []
    },
    {
      "cell_type": "code",
      "source": [
        "# Write a code to reverse the list [10, 20, 30, 40, 50]\n",
        "\n",
        "a = [10, 20, 30, 40, 50]\n",
        "print(a[::-1])\n",
        ""
      ],
      "metadata": {
        "id": "9Fi8LSkKt3Ii"
      },
      "execution_count": null,
      "outputs": []
    },
    {
      "cell_type": "code",
      "source": [
        "# Write a code to reverse the list [10, 20, 30, 40, 50]\n",
        "\n",
        "a = [10, 20, 30, 40, 50]\n",
        "print(a[::-1])\n",
        ""
      ],
      "metadata": {
        "id": "guTT5TqYt62D"
      },
      "execution_count": null,
      "outputs": []
    },
    {
      "cell_type": "code",
      "source": [
        "# Write a code to create a tuple with the elements 100, 200, 300 and print it.\n",
        "\n",
        "tupple = (100, 200, 300)\n",
        "print(type(tupple))"
      ],
      "metadata": {
        "id": "TmIPSR_PuFnA"
      },
      "execution_count": null,
      "outputs": []
    },
    {
      "cell_type": "code",
      "source": [
        "# Write a code to access the second-to-last element of the tuple ('red', 'green', 'blue', 'yellow')\n",
        "\n",
        "t = ('red', 'green', 'blue', 'yellow')\n",
        "print(t[-2])"
      ],
      "metadata": {
        "id": "5znD6koJuJas"
      },
      "execution_count": null,
      "outputs": []
    },
    {
      "cell_type": "code",
      "source": [
        "# Write a code to find the minimum number in the tuple (10, 20, 5, 15).\n",
        "t = (10, 20, 5, 15)\n",
        "print(min(t))\n",
        ""
      ],
      "metadata": {
        "id": "rgaK0kfWuTpV"
      },
      "execution_count": null,
      "outputs": []
    },
    {
      "cell_type": "code",
      "source": [
        "# Write a code to find the index of the element \"cat\" in the tuple ('dog', 'cat', 'rabbit')\n",
        "\n",
        "a = ('dog', 'cat', 'rabbit')\n",
        "print(a.index(\"cat\"))\n",
        ""
      ],
      "metadata": {
        "id": "hohBJgyouZAe"
      },
      "execution_count": null,
      "outputs": []
    },
    {
      "cell_type": "code",
      "source": [
        "# Write a code to create a tuple containing three different fruits and check if \"kiwi\" is in it\n",
        "\n",
        "a = (\"apple\", \"banana\", \"kiwi\")\n",
        "print(\"kiwi\" in a)"
      ],
      "metadata": {
        "id": "ySQvZtO6ucjv"
      },
      "execution_count": null,
      "outputs": []
    },
    {
      "cell_type": "code",
      "source": [
        "# Write a code to create a set with the elements 'a', 'b', 'c' and print it\n",
        "a = {'a', 'b', 'c'}\n",
        "print(type(a))"
      ],
      "metadata": {
        "id": "HLnpTXeNuhzd"
      },
      "execution_count": null,
      "outputs": []
    },
    {
      "cell_type": "code",
      "source": [
        "# Write a code to clear all elements from the set {1, 2, 3, 4, 5}.\n",
        "a = {1, 2, 3, 4, 5}\n",
        "a.clear()\n",
        "print(a)\n",
        ""
      ],
      "metadata": {
        "id": "0GDQefr4umkz"
      },
      "execution_count": null,
      "outputs": []
    },
    {
      "cell_type": "code",
      "source": [
        "# Write a code to remove the element 4 from the set {1, 2, 3, 4}\n",
        "a = {1, 2, 3, 4}\n",
        "a.remove(4)\n",
        "print(a)\n",
        ""
      ],
      "metadata": {
        "id": "fcov8WQtupdy"
      },
      "execution_count": null,
      "outputs": []
    },
    {
      "cell_type": "code",
      "source": [
        "# Write a code to find the union of two sets {1, 2, 3} and {3, 4, 5}\n",
        "\n",
        "s1 = {1, 2, 3}\n",
        "s2 = {3, 4, 5}\n",
        "\n",
        "a = s1.union(s2)\n",
        "\n",
        "print(a)"
      ],
      "metadata": {
        "id": "obBiabQAusfI"
      },
      "execution_count": null,
      "outputs": []
    },
    {
      "cell_type": "code",
      "source": [
        "#  Write a code to find the intersection of two sets {1, 2, 3} and {2, 3, 4}.\n",
        "\n",
        "s1 = {1, 2, 3}\n",
        "s2 = {2, 3, 4}\n",
        "\n",
        "print(s1.intersection(s2))"
      ],
      "metadata": {
        "id": "7N3HkQLzuyPj"
      },
      "execution_count": null,
      "outputs": []
    },
    {
      "cell_type": "code",
      "source": [
        "# Write a code to create a dictionary with the keys \"name\", \"age\", and \"city\", and print it.\n",
        "\n",
        "dict = {\"name\": \"BARKHA\", \"age\": 25, \"city\": \"delhi\"}\n",
        "print(dict)\n",
        ""
      ],
      "metadata": {
        "id": "dEAH3fflu2m4"
      },
      "execution_count": null,
      "outputs": []
    },
    {
      "cell_type": "code",
      "source": [
        "# Write a code to add a new key-value pair \"country\": \"USA\" to the dictionary {'name': 'John', 'age': 25}.\n",
        "\n",
        "dict = {'name': 'John', 'age': 25}\n",
        "dict['country'] = 'USA'\n",
        "print(dict)"
      ],
      "metadata": {
        "id": "Nh-YpofBu-ex"
      },
      "execution_count": null,
      "outputs": []
    },
    {
      "cell_type": "code",
      "source": [
        "#  Write a code to access the value associated with the key \"name\" in the dictionary {'name': 'Alice', 'age': 30}\n",
        "\n",
        "dict = {'name': 'Alice', 'age': 30}\n",
        "print(dict[\"name\"])"
      ],
      "metadata": {
        "id": "vTcTxJ5uvCF5"
      },
      "execution_count": null,
      "outputs": []
    },
    {
      "cell_type": "code",
      "source": [
        "#  Write a code to remove the key \"age\" from the dictionary {'name': 'Bob', 'age': 22, 'city': 'New York'}\n",
        "\n",
        "dict = {'name': 'Bob', 'age': 22, 'city': 'New York'}\n",
        "dict.pop(\"age\")\n",
        "print(dict)"
      ],
      "metadata": {
        "id": "vkJq1NeavGzg"
      },
      "execution_count": null,
      "outputs": []
    },
    {
      "cell_type": "code",
      "source": [
        "\n",
        "# Write a code to check if the key \"city\" exists in the dictionary {'name': 'Alice', 'city': 'Paris'}\n",
        "\n",
        "dict = {'name': 'Alice', 'city': 'Paris'}\n",
        "print(\"city\" in dict)\n"
      ],
      "metadata": {
        "id": "Xe4i2Wf8vJd0"
      },
      "execution_count": null,
      "outputs": []
    },
    {
      "cell_type": "code",
      "source": [
        "# Write a code to create a list, a tuple, and a dictionary, and print them all.\n",
        "a = [1, \"apple\", 5.5, True]\n",
        "print(type(a))\n",
        "\n",
        "b = (1, \"apple\", 5.5, True)\n",
        "print(type(b))\n",
        "\n",
        "c = {\"name\": \"sumit\", \"age\": 25, \"city\": \"delhi\"}\n",
        "print(type(c))"
      ],
      "metadata": {
        "id": "ZyWbjf_cvQKa"
      },
      "execution_count": null,
      "outputs": []
    },
    {
      "cell_type": "code",
      "source": [
        "# Write a code to create a list of 5 random numbers between 1 and 100, sort it in ascending order, and print the result.(replaced)\n",
        "import random\n",
        "\n",
        "random_numbers = [random.randint(1, 100) for _ in range(5)]\n",
        "random_numbers.sort()\n",
        "print(random_numbers)\n",
        ""
      ],
      "metadata": {
        "id": "3rlYxCcWvVdZ"
      },
      "execution_count": null,
      "outputs": []
    },
    {
      "cell_type": "code",
      "source": [
        "#  Write a code to create a list with strings and print the element at the third index\n",
        "a = [\"apple\", \"banana\", \"sumit\", \"pw\"]\n",
        "\n",
        "print(a[3])\n",
        ""
      ],
      "metadata": {
        "id": "577nhNekvbPt"
      },
      "execution_count": null,
      "outputs": []
    },
    {
      "cell_type": "code",
      "source": [
        "# Write a code to combine two dictionaries into one and print the result\n",
        "\n",
        "d1 = {'a': 1, 'b': 2}\n",
        "d2 = {'c': 3, 'd': 4}\n",
        "\n",
        "d1.update(d2)\n",
        "print(d1)\n",
        ""
      ],
      "metadata": {
        "id": "o5-9ZLlevef8"
      },
      "execution_count": null,
      "outputs": []
    },
    {
      "cell_type": "code",
      "source": [
        "# Write a code to convert a list of strings into a set.\n",
        "a = [\"apple\", \"banana\", \"sumit\", \"pw\"]\n",
        "print(type(a))\n",
        "\n",
        "b = (set(a))\n",
        "print(b)\n",
        "\n",
        "print(type(b))"
      ],
      "metadata": {
        "id": "914zZ30KvjXB"
      },
      "execution_count": null,
      "outputs": []
    },
    {
      "cell_type": "code",
      "source": [],
      "metadata": {
        "id": "Q07ZtKTsvmQQ"
      },
      "execution_count": null,
      "outputs": []
    },
    {
      "cell_type": "markdown",
      "source": [
        "\n",
        "#Data Types and Structures Questions\n",
        "\n",
        "   1 What are data structures, and why are they important?\n",
        "       \n",
        "       -  Data structures are ways of organizing and storing data efficiently so that operations like searching, inserting, and deleting can be performed optimally.\n",
        "        They are crucial because they determine the efficiency of algorithms, impacting performance in software development.\n",
        "\n",
        "   2  Explain the difference between mutable and immutable data types with examples?\n",
        "       \n",
        "       -  Mutable: Can be changed after creation. Example: lists, dictionaries, sets eg: my_list = [1, 2, 3] my_list.append(4)\n",
        "        Immutable: Cannot be changed after creation. Example: tuples, strings, integers eg: my_tuple = (1, 2, 3) my_tuple[0] = 5 raise error.\n",
        "\n",
        "   3  What are the main differences between lists and tuples in Python?\n",
        "       \n",
        "       -  Lists: Mutable, slower, more memory usage\n",
        "        Tuples: Immutable, faster, more memory-efficient\n",
        "\n",
        "   4  Describe how dictionaries store data?\n",
        "       \n",
        "       -  Dictionaries store data as key-value pairs using a hash table, allowing for quick lookups.\n",
        "\n",
        "   5  Why might you use a set instead of a list in Python?\n",
        "        \n",
        "        -  Sets store unique elements and allow fast membership checks (O(1)).\n",
        "        Lists allow duplicates but have slower membership checks (O(n)).\n",
        "\n",
        "   6  What is a string in Python, and how is it different from a list?\n",
        "       \n",
        "        A string is an immutable sequence of characters, while a list is mutable and can hold multiple data types.\n",
        "\n",
        "  7   How do tuples ensure data integrity in Python?\n",
        "        \n",
        "        - Since tuples are immutable, they prevent accidental modification, making them ideal for fixed data structures like database records.\n",
        "\n",
        "   8  What is a hash table, and how does it relate to dictionaries in Python?\n",
        "       \n",
        "       -  A hash table is a data structure that maps keys to values using a hashing function, enabling fast lookups. Python dictionaries use hash tables internally.\n",
        "\n",
        "   9  Can lists contain different data types in Python?\n",
        "       \n",
        "       -  Yes, lists can store heterogeneous data.\n",
        "\n",
        "   10  Explain why strings are immutable in Python?\n",
        "\n",
        "   -  Improves performance and security\n",
        "    - Allows string interning for efficiency\n",
        "\n",
        "   11  What advantages do dictionaries offer over lists for certain tasks?\n",
        "\n",
        "    - Faster lookups (O(1)) compared to lists (O(n))\n",
        "    \n",
        "    - Key-based access instead of index-based\n",
        "\n",
        "   12  How do sets handle duplicate values in Python?\n",
        "\n",
        "   -  Sets automatically remove duplicate values.\n",
        "\n",
        "   13 Describe a scenario where using a tuple would be preferable over a list?\n",
        "\n",
        "    \n",
        "    - When data should not be modified (e.g., database records, function return values).\n",
        "\n",
        "   14  How does the “in” keyword work differently for lists and dictionaries?\n",
        "\n",
        "   -  Lists: Checks for an element (O(n))\n",
        "    - Dictionaries: Checks for a key (O(1))\n",
        "\n",
        "   15  Can you modify the elements of a tuple? Explain why or why not?\n",
        "\n",
        "   -  No, tuples are immutable. You must create a new tuple if you want modifications.\n",
        "\n",
        "   16  What is a nested dictionary, and give an example of its use case?\n",
        "\n",
        "   -  A dictionary inside another dictionary. eg: student_data = {\"Alice\": {\"age\": 25, \"grade\": \"A\"}, \"Bob\": {\"age\": 22, \"grade\": \"B\"}}\n",
        "\n",
        "   17 Describe the time complexity of accessing elements in a dictionary?\n",
        "\n",
        "   -  Average case: O(1)\n",
        "   \n",
        "   -  Worst case (hash collisions): O(n)\n",
        "\n",
        "   18   In what situations are lists preferred over dictionaries?\n",
        "\n",
        "   -  When order matters\n",
        "   \n",
        "   -  When the dataset is small and sequential access is required\n",
        "\n",
        "   19  Why are dictionaries considered unordered, and how does that affect data retrieval?\n",
        "\n",
        "   -  Before Python 3.7, dictionaries did not maintain insertion order. From Python 3.7+, they do.\n",
        "    \n",
        "    - Retrieval is based on key lookups rather than index positions.\n",
        "\n",
        "  20   Explain the difference between a list and a dictionary in terms of data retrieval.?\n",
        "\n",
        "   -  Lists: Index-based (O(1))\n",
        "   \n",
        "   -  Dictionaries: Key-based (O(1)) for lookups\n",
        "\n"
      ],
      "metadata": {
        "id": "RWs5I7vHv6c5"
      }
    }
  ]
}